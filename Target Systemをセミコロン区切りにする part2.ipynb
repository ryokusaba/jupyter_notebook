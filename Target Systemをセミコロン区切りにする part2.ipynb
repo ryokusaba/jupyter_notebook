{
 "cells": [
  {
   "cell_type": "code",
   "execution_count": 1,
   "metadata": {
    "collapsed": true
   },
   "outputs": [],
   "source": [
    "import pandas as pd\n",
    "workdir = 'G:\\\\マイドライブ\\\\02_MDM\\\\work\\\\#201801\\\\0126\\\\'"
   ]
  },
  {
   "cell_type": "code",
   "execution_count": 2,
   "metadata": {
    "collapsed": true
   },
   "outputs": [],
   "source": [
    "fn = 'ts_list2.xlsx'\n",
    "df = pd.read_excel(workdir + fn, dtype='object')"
   ]
  },
  {
   "cell_type": "code",
   "execution_count": 5,
   "metadata": {
    "collapsed": true
   },
   "outputs": [],
   "source": [
    "ic_list = df[['Item code']].drop_duplicates()\n",
    "ic_list.reset_index(drop=True, inplace=True)"
   ]
  },
  {
   "cell_type": "code",
   "execution_count": 6,
   "metadata": {
    "collapsed": true
   },
   "outputs": [],
   "source": [
    "del df['Global item ID']\n",
    "del df['Product classification']"
   ]
  },
  {
   "cell_type": "code",
   "execution_count": 7,
   "metadata": {},
   "outputs": [
    {
     "data": {
      "text/plain": [
       "Index(['GPLM Global ID', 'Item code', 'ColorID', 'Target System'], dtype='object')"
      ]
     },
     "execution_count": 7,
     "metadata": {},
     "output_type": "execute_result"
    }
   ],
   "source": [
    "cols = df.columns\n",
    "cols"
   ]
  },
  {
   "cell_type": "code",
   "execution_count": 8,
   "metadata": {
    "collapsed": true
   },
   "outputs": [],
   "source": [
    "newdf = pd.DataFrame(columns = cols)"
   ]
  },
  {
   "cell_type": "code",
   "execution_count": 11,
   "metadata": {
    "collapsed": true
   },
   "outputs": [],
   "source": [
    " for i, v in ic_list.iterrows():\n",
    "    ...:     ic = v[0]\n",
    "    ...:     tmp1 = df[df['Item code'] == ic]\n",
    "    ...:     tmp1.reset_index(drop=True, inplace=True)\n",
    "    ...:     for j, w in tmp1.iterrows():\n",
    "    ...:         cc = tmp1.loc[j]['ColorID']\n",
    "    ...:         tmp2 = tmp1[tmp1['ColorID'] == cc]\n",
    "    ...:         tmp2.reset_index(drop=True, inplace=True)\n",
    "    ...:         hoge = ''\n",
    "    ...:         for k in tmp2.index:\n",
    "    ...:             hoge = hoge + str(tmp2.loc[k]['Target System'])\n",
    "    ...:             if k < tmp2.shape[0] - 1:\n",
    "    ...:                 hoge = hoge + ';'\n",
    "    ...:         foo = [tmp1.loc[0]['GPLM Global ID'], ic, cc, hoge]\n",
    "    ...:         ns = pd.Series(foo, index=cols)\n",
    "    ...:         newdf = newdf.append(ns, ignore_index=True)\n",
    "    ...:         newdf = newdf.drop_duplicates()"
   ]
  },
  {
   "cell_type": "code",
   "execution_count": 12,
   "metadata": {},
   "outputs": [
    {
     "data": {
      "text/html": [
       "<div>\n",
       "<style>\n",
       "    .dataframe thead tr:only-child th {\n",
       "        text-align: right;\n",
       "    }\n",
       "\n",
       "    .dataframe thead th {\n",
       "        text-align: left;\n",
       "    }\n",
       "\n",
       "    .dataframe tbody tr th {\n",
       "        vertical-align: top;\n",
       "    }\n",
       "</style>\n",
       "<table border=\"1\" class=\"dataframe\">\n",
       "  <thead>\n",
       "    <tr style=\"text-align: right;\">\n",
       "      <th></th>\n",
       "      <th>GPLM Global ID</th>\n",
       "      <th>Item code</th>\n",
       "      <th>ColorID</th>\n",
       "      <th>Target System</th>\n",
       "    </tr>\n",
       "  </thead>\n",
       "  <tbody>\n",
       "    <tr>\n",
       "      <th>0</th>\n",
       "      <td>0010106856</td>\n",
       "      <td>FMC700</td>\n",
       "      <td>0293</td>\n",
       "      <td>AJP</td>\n",
       "    </tr>\n",
       "    <tr>\n",
       "      <th>1</th>\n",
       "      <td>0010106856</td>\n",
       "      <td>FMC700</td>\n",
       "      <td>1313</td>\n",
       "      <td>AJP</td>\n",
       "    </tr>\n",
       "    <tr>\n",
       "      <th>2</th>\n",
       "      <td>0010106856</td>\n",
       "      <td>FMC700</td>\n",
       "      <td>001</td>\n",
       "      <td>AJP</td>\n",
       "    </tr>\n",
       "    <tr>\n",
       "      <th>3</th>\n",
       "      <td>0010109142</td>\n",
       "      <td>OT6000</td>\n",
       "      <td>0101</td>\n",
       "      <td>AJP</td>\n",
       "    </tr>\n",
       "    <tr>\n",
       "      <th>4</th>\n",
       "      <td>0010109142</td>\n",
       "      <td>OT6000</td>\n",
       "      <td>0104</td>\n",
       "      <td>AJP</td>\n",
       "    </tr>\n",
       "    <tr>\n",
       "      <th>5</th>\n",
       "      <td>0010109142</td>\n",
       "      <td>OT6000</td>\n",
       "      <td>0119</td>\n",
       "      <td>AJP</td>\n",
       "    </tr>\n",
       "    <tr>\n",
       "      <th>6</th>\n",
       "      <td>0010109142</td>\n",
       "      <td>OT6000</td>\n",
       "      <td>0133</td>\n",
       "      <td>AJP</td>\n",
       "    </tr>\n",
       "    <tr>\n",
       "      <th>7</th>\n",
       "      <td>0010109142</td>\n",
       "      <td>OT6000</td>\n",
       "      <td>0138</td>\n",
       "      <td>AJP</td>\n",
       "    </tr>\n",
       "    <tr>\n",
       "      <th>8</th>\n",
       "      <td>0010109142</td>\n",
       "      <td>OT6000</td>\n",
       "      <td>0140</td>\n",
       "      <td>AJP</td>\n",
       "    </tr>\n",
       "    <tr>\n",
       "      <th>9</th>\n",
       "      <td>0010109142</td>\n",
       "      <td>OT6000</td>\n",
       "      <td>0155</td>\n",
       "      <td>AJP</td>\n",
       "    </tr>\n",
       "  </tbody>\n",
       "</table>\n",
       "</div>"
      ],
      "text/plain": [
       "  GPLM Global ID Item code ColorID Target System\n",
       "0     0010106856    FMC700    0293           AJP\n",
       "1     0010106856    FMC700    1313           AJP\n",
       "2     0010106856    FMC700     001           AJP\n",
       "3     0010109142    OT6000    0101           AJP\n",
       "4     0010109142    OT6000    0104           AJP\n",
       "5     0010109142    OT6000    0119           AJP\n",
       "6     0010109142    OT6000    0133           AJP\n",
       "7     0010109142    OT6000    0138           AJP\n",
       "8     0010109142    OT6000    0140           AJP\n",
       "9     0010109142    OT6000    0155           AJP"
      ]
     },
     "execution_count": 12,
     "metadata": {},
     "output_type": "execute_result"
    }
   ],
   "source": [
    "newdf.iloc[:10]"
   ]
  },
  {
   "cell_type": "code",
   "execution_count": 13,
   "metadata": {
    "collapsed": true
   },
   "outputs": [],
   "source": [
    "outdf = newdf[newdf['Target System'] != 'nan']"
   ]
  },
  {
   "cell_type": "code",
   "execution_count": 14,
   "metadata": {},
   "outputs": [
    {
     "data": {
      "text/plain": [
       "(10202, 4)"
      ]
     },
     "execution_count": 14,
     "metadata": {},
     "output_type": "execute_result"
    }
   ],
   "source": [
    "outdf.shape"
   ]
  },
  {
   "cell_type": "code",
   "execution_count": 15,
   "metadata": {
    "collapsed": true
   },
   "outputs": [],
   "source": [
    "outdf.to_csv(workdir + 'for_sybase2.tsv', encoding = 'utf-8', index = False, sep = '\\t')"
   ]
  },
  {
   "cell_type": "code",
   "execution_count": null,
   "metadata": {
    "collapsed": true
   },
   "outputs": [],
   "source": []
  }
 ],
 "metadata": {
  "kernelspec": {
   "display_name": "Python 3",
   "language": "python",
   "name": "python3"
  },
  "language_info": {
   "codemirror_mode": {
    "name": "ipython",
    "version": 3
   },
   "file_extension": ".py",
   "mimetype": "text/x-python",
   "name": "python",
   "nbconvert_exporter": "python",
   "pygments_lexer": "ipython3",
   "version": "3.6.3"
  }
 },
 "nbformat": 4,
 "nbformat_minor": 2
}
