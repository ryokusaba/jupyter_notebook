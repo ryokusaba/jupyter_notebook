{
 "cells": [
  {
   "cell_type": "code",
   "execution_count": 36,
   "metadata": {
    "collapsed": true
   },
   "outputs": [],
   "source": [
    "import pandas as pd"
   ]
  },
  {
   "cell_type": "code",
   "execution_count": 37,
   "metadata": {
    "collapsed": true
   },
   "outputs": [],
   "source": [
    "workdir = 'G:\\\\マイドライブ\\\\02_MDM\\\\work\\\\#201801\\\\0125\\\\'"
   ]
  },
  {
   "cell_type": "code",
   "execution_count": 38,
   "metadata": {
    "collapsed": true
   },
   "outputs": [],
   "source": [
    "fn = 'ts_list.xlsx'\n",
    "df = pd.read_excel(workdir + fn, dtype='object')"
   ]
  },
  {
   "cell_type": "code",
   "execution_count": 39,
   "metadata": {
    "collapsed": true
   },
   "outputs": [],
   "source": [
    "i_s = df[['Item code']]\n",
    "i_s.drop_duplicates()\n",
    "i_s.reset_index(drop=True, inplace=True)"
   ]
  },
  {
   "cell_type": "code",
   "execution_count": 40,
   "metadata": {},
   "outputs": [
    {
     "data": {
      "text/plain": [
       "Index(['Global item ID', 'Item code', 'Product classification', 'ColorID',\n",
       "       'Target System'],\n",
       "      dtype='object')"
      ]
     },
     "execution_count": 40,
     "metadata": {},
     "output_type": "execute_result"
    }
   ],
   "source": [
    "df.columns"
   ]
  },
  {
   "cell_type": "code",
   "execution_count": 41,
   "metadata": {
    "collapsed": true
   },
   "outputs": [],
   "source": [
    "del df['Product classification']"
   ]
  },
  {
   "cell_type": "code",
   "execution_count": 42,
   "metadata": {
    "collapsed": true
   },
   "outputs": [],
   "source": [
    "tmp = df[df['Item code'] == 'D201L']"
   ]
  },
  {
   "cell_type": "code",
   "execution_count": 48,
   "metadata": {
    "collapsed": true
   },
   "outputs": [],
   "source": [
    "newdf = pd.DataFrame(columns = df.columns)"
   ]
  },
  {
   "cell_type": "code",
   "execution_count": 49,
   "metadata": {},
   "outputs": [
    {
     "data": {
      "text/plain": [
       "Index(['Global item ID', 'Item code', 'ColorID', 'Target System'], dtype='object')"
      ]
     },
     "execution_count": 49,
     "metadata": {},
     "output_type": "execute_result"
    }
   ],
   "source": [
    "newdf.columns"
   ]
  },
  {
   "cell_type": "code",
   "execution_count": 50,
   "metadata": {},
   "outputs": [],
   "source": [
    "for i, v in tmp.iterrows():\n",
    "    cc = tmp.loc[i]['ColorID']\n",
    "    tmp2 = tmp[tmp['ColorID'] == cc]\n",
    "    tmp2.reset_index(drop=True, inplace=True)\n",
    "    hoge = ''\n",
    "    if tmp2.shape[0] > 1:\n",
    "        for j in tmp2.index:\n",
    "            hoge = hoge + tmp2.loc[j]['Target System']\n",
    "            if j < tmp2.shape[0] - 1:\n",
    "                hoge = hoge + \";\"\n",
    "    new = [tmp2.loc[0]['Global item ID'], tmp2.loc[0]['Item code'], tmp2.loc[0]['ColorID'], hoge]\n",
    "    ns = pd.Series(new, index = newdf.columns)\n",
    "    newdf = newdf.append(ns, ignore_index = True)\n"
   ]
  },
  {
   "cell_type": "code",
   "execution_count": 51,
   "metadata": {},
   "outputs": [],
   "source": [
    "newdf = newdf.drop_duplicates()"
   ]
  },
  {
   "cell_type": "code",
   "execution_count": 52,
   "metadata": {},
   "outputs": [
    {
     "data": {
      "text/html": [
       "<div>\n",
       "<style>\n",
       "    .dataframe thead tr:only-child th {\n",
       "        text-align: right;\n",
       "    }\n",
       "\n",
       "    .dataframe thead th {\n",
       "        text-align: left;\n",
       "    }\n",
       "\n",
       "    .dataframe tbody tr th {\n",
       "        vertical-align: top;\n",
       "    }\n",
       "</style>\n",
       "<table border=\"1\" class=\"dataframe\">\n",
       "  <thead>\n",
       "    <tr style=\"text-align: right;\">\n",
       "      <th></th>\n",
       "      <th>Global item ID</th>\n",
       "      <th>Item code</th>\n",
       "      <th>ColorID</th>\n",
       "      <th>Target System</th>\n",
       "    </tr>\n",
       "  </thead>\n",
       "  <tbody>\n",
       "    <tr>\n",
       "      <th>0</th>\n",
       "      <td>0010121748</td>\n",
       "      <td>D201L</td>\n",
       "      <td>1090</td>\n",
       "      <td>ASC;AAG;AJP</td>\n",
       "    </tr>\n",
       "    <tr>\n",
       "      <th>3</th>\n",
       "      <td>0010121748</td>\n",
       "      <td>D201L</td>\n",
       "      <td>9010</td>\n",
       "      <td>ASC;AAG;AJP</td>\n",
       "    </tr>\n",
       "    <tr>\n",
       "      <th>6</th>\n",
       "      <td>0010121748</td>\n",
       "      <td>D201L</td>\n",
       "      <td>0150</td>\n",
       "      <td>ASC;AAG;AJP</td>\n",
       "    </tr>\n",
       "    <tr>\n",
       "      <th>9</th>\n",
       "      <td>0010121748</td>\n",
       "      <td>D201L</td>\n",
       "      <td>0850</td>\n",
       "      <td>AAG;AJP;AOP</td>\n",
       "    </tr>\n",
       "    <tr>\n",
       "      <th>12</th>\n",
       "      <td>0010121748</td>\n",
       "      <td>D201L</td>\n",
       "      <td>1323</td>\n",
       "      <td>AAG;AJP;AOP</td>\n",
       "    </tr>\n",
       "    <tr>\n",
       "      <th>15</th>\n",
       "      <td>0010121748</td>\n",
       "      <td>D201L</td>\n",
       "      <td>0130</td>\n",
       "      <td>AAG;AJP;AOP</td>\n",
       "    </tr>\n",
       "    <tr>\n",
       "      <th>18</th>\n",
       "      <td>0010121748</td>\n",
       "      <td>D201L</td>\n",
       "      <td>0184</td>\n",
       "      <td>AAG;AJP;AOP</td>\n",
       "    </tr>\n",
       "    <tr>\n",
       "      <th>21</th>\n",
       "      <td>0010121748</td>\n",
       "      <td>D201L</td>\n",
       "      <td>0442</td>\n",
       "      <td>AAG;AJP;AOP</td>\n",
       "    </tr>\n",
       "    <tr>\n",
       "      <th>24</th>\n",
       "      <td>0010121748</td>\n",
       "      <td>D201L</td>\n",
       "      <td>2399</td>\n",
       "      <td>AAG;AJP;AOP</td>\n",
       "    </tr>\n",
       "    <tr>\n",
       "      <th>27</th>\n",
       "      <td>0010121748</td>\n",
       "      <td>D201L</td>\n",
       "      <td>8404</td>\n",
       "      <td>AAG;AJP;AOP</td>\n",
       "    </tr>\n",
       "    <tr>\n",
       "      <th>30</th>\n",
       "      <td>0010121748</td>\n",
       "      <td>D201L</td>\n",
       "      <td>9950</td>\n",
       "      <td>AAG;AJP</td>\n",
       "    </tr>\n",
       "    <tr>\n",
       "      <th>32</th>\n",
       "      <td>0010121748</td>\n",
       "      <td>D201L</td>\n",
       "      <td>8204</td>\n",
       "      <td>AAG;AJP;AOP</td>\n",
       "    </tr>\n",
       "    <tr>\n",
       "      <th>35</th>\n",
       "      <td>0010121748</td>\n",
       "      <td>D201L</td>\n",
       "      <td>0123</td>\n",
       "      <td>AAG;AJP;AOP</td>\n",
       "    </tr>\n",
       "    <tr>\n",
       "      <th>38</th>\n",
       "      <td>0010121748</td>\n",
       "      <td>D201L</td>\n",
       "      <td>001</td>\n",
       "      <td>ACN;AJP</td>\n",
       "    </tr>\n",
       "    <tr>\n",
       "      <th>40</th>\n",
       "      <td>0010121748</td>\n",
       "      <td>D201L</td>\n",
       "      <td>100</td>\n",
       "      <td>ACN;AJP;AHK</td>\n",
       "    </tr>\n",
       "    <tr>\n",
       "      <th>43</th>\n",
       "      <td>0010121748</td>\n",
       "      <td>D201L</td>\n",
       "      <td>101</td>\n",
       "      <td>ACN;AJP</td>\n",
       "    </tr>\n",
       "    <tr>\n",
       "      <th>45</th>\n",
       "      <td>0010121748</td>\n",
       "      <td>D201L</td>\n",
       "      <td>200</td>\n",
       "      <td>ACN;AJP</td>\n",
       "    </tr>\n",
       "    <tr>\n",
       "      <th>47</th>\n",
       "      <td>0010121748</td>\n",
       "      <td>D201L</td>\n",
       "      <td>400</td>\n",
       "      <td>ACN;AJP</td>\n",
       "    </tr>\n",
       "    <tr>\n",
       "      <th>49</th>\n",
       "      <td>0010121748</td>\n",
       "      <td>D201L</td>\n",
       "      <td>600</td>\n",
       "      <td>ACN;AJP</td>\n",
       "    </tr>\n",
       "  </tbody>\n",
       "</table>\n",
       "</div>"
      ],
      "text/plain": [
       "   Global item ID Item code ColorID Target System\n",
       "0      0010121748     D201L    1090   ASC;AAG;AJP\n",
       "3      0010121748     D201L    9010   ASC;AAG;AJP\n",
       "6      0010121748     D201L    0150   ASC;AAG;AJP\n",
       "9      0010121748     D201L    0850   AAG;AJP;AOP\n",
       "12     0010121748     D201L    1323   AAG;AJP;AOP\n",
       "15     0010121748     D201L    0130   AAG;AJP;AOP\n",
       "18     0010121748     D201L    0184   AAG;AJP;AOP\n",
       "21     0010121748     D201L    0442   AAG;AJP;AOP\n",
       "24     0010121748     D201L    2399   AAG;AJP;AOP\n",
       "27     0010121748     D201L    8404   AAG;AJP;AOP\n",
       "30     0010121748     D201L    9950       AAG;AJP\n",
       "32     0010121748     D201L    8204   AAG;AJP;AOP\n",
       "35     0010121748     D201L    0123   AAG;AJP;AOP\n",
       "38     0010121748     D201L     001       ACN;AJP\n",
       "40     0010121748     D201L     100   ACN;AJP;AHK\n",
       "43     0010121748     D201L     101       ACN;AJP\n",
       "45     0010121748     D201L     200       ACN;AJP\n",
       "47     0010121748     D201L     400       ACN;AJP\n",
       "49     0010121748     D201L     600       ACN;AJP"
      ]
     },
     "execution_count": 52,
     "metadata": {},
     "output_type": "execute_result"
    }
   ],
   "source": [
    "newdf"
   ]
  },
  {
   "cell_type": "code",
   "execution_count": null,
   "metadata": {
    "collapsed": true
   },
   "outputs": [],
   "source": []
  }
 ],
 "metadata": {
  "kernelspec": {
   "display_name": "Python 3",
   "language": "python",
   "name": "python3"
  },
  "language_info": {
   "codemirror_mode": {
    "name": "ipython",
    "version": 3
   },
   "file_extension": ".py",
   "mimetype": "text/x-python",
   "name": "python",
   "nbconvert_exporter": "python",
   "pygments_lexer": "ipython3",
   "version": "3.6.3"
  }
 },
 "nbformat": 4,
 "nbformat_minor": 2
}
